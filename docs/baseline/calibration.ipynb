{
 "cells": [
  {
   "cell_type": "markdown",
   "id": "37d50232",
   "metadata": {},
   "source": [
    "# Data calibration\n",
    "\n",
    "<hr style=\"height:4px; background-color:black; border:none;\">\n",
    "\n",
    "<br>"
   ]
  },
  {
   "cell_type": "markdown",
   "id": "acd19fd7",
   "metadata": {},
   "source": [
    "This section explains the calibration procedure of the model’s parameters. It describes the processing steps, data sources, and relevant references."
   ]
  },
  {
   "cell_type": "markdown",
   "id": "7f734500",
   "metadata": {},
   "source": [
    "## Geographic Extent\n",
    "Brazilian Amazon Biome as defined in IBGE (2019), with a total area of 421,274,200 hectares."
   ]
  },
  {
   "cell_type": "markdown",
   "id": "a7277b90",
   "metadata": {},
   "source": [
    "## Model Variations\n",
    "\n",
    "\n",
    "### 1043 sites\n",
    "Regular grid of 1,043 sites with ∼ 67.5km x 67.5km resolution (67.5km-sites) covering the Brazilian Amazon Biome. The aggregation process consisted of three steps:\n",
    "1. We rasterized the Amazon Biome using the MapBiomas grid (Souza et al. 2020), with pixels of ∼ 30m x 30m resolution (30m-pixels), as the baseline (to guarantee a perfect spatial overlap between the sites and the MapBiomas data).\n",
    "\n",
    "2. We aggregated the Amazon grid by a factor of 2,250. Considering the top-left corner as the origin,\n",
    "approximately every combination of 2,250 x 2,250 30m-pixels becomes one of the 67.5km-sites (grid\n",
    "of 37x51 67.5km-sites).\n",
    "\n",
    "3. From the 1,887 67.5km-sites, we selected the 1,043 sites with at least 3% of their area inside the\n",
    "biome.\n",
    "\n",
    "### 78 sites\n",
    "Regular grid of 78 sites with ∼ 270km x 270km resolution (270km-sites) covering the Brazilian Amazon Biome. The aggregation process consisted of two steps:\n",
    "1. We further aggregated the grid of 37x51 67.5km-sites by a factor of 4. Considering the topleft corner as the origin, approximately every combination of 4x4 67.5km-sites becomes one of\n",
    "the 270km-sites. As 37/4 and 51/4 do not return an integer, the extent of the resulting grid is\n",
    "somewhat larger (grid of 10x13 270km-sites).\n",
    "2. From the 130 270km-sites, we selected the 78 sites with at least 3% of their area inside the biome\n",
    "\n"
   ]
  },
  {
   "cell_type": "markdown",
   "id": "1d69288f",
   "metadata": {},
   "source": [
    "## Parameters and Initial Conditions\n",
    "### $Z^i_0$ and $\\bar{z^i}$\n",
    "1. We aggregated the MapBiomas land use/cover 30m-pixels (Souza et al. 2020) to the 67.5km-sites\n",
    "calculating the area (in hectares) of the 67.5km-sites with forest cover and agricultural use in 2017.\n",
    "2. $Z^i_0$ is defined as the area with agricultural use for each site $i$ in 2017, while $\\bar{z^i}$ is the total land available in 2017 (sum of the area with agricultural use or forest cover).\n",
    "3. Source: MapBiomas Land Use/Cover Collection 5 (Souza et al. 2020)"
   ]
  },
  {
   "cell_type": "markdown",
   "id": "ede614e9",
   "metadata": {},
   "source": [
    "### $\\gamma^i$\n",
    "1. We extracted a random sample of 1.2 million 30m-pixels from the MapBiomas grid, with land\n",
    "cover/use information from 1985-2019.\n",
    "2. We identified 893,753 pixels that could be considered primary forests in 2018 (with no deforestation, at least since 1985).\n",
    "3. We added aboveground biomass density data for 2017 from ESA Biomass (Santoro\n",
    "and Cartus 2021). Biomass data also comes in a grid format with ∼ 100m resolution, so we\n",
    "spatially matched it to our sample and calculated the average CO2 density (Mg/ha) on the\n",
    "primary forest pixels within each site for each year.\n",
    "4. We conducted bayesian estimation using log of average CO2 density as dependent variable and predicted $\\gamma^i$ as expoential of fitted values. The specification is presented below,\n",
    "where CO2e ha is the average CO2 density we calculated, rainfall and temperature are the average annual precipitation (mm) and temperature (degrees Celsius),\n",
    "respectively, for the period of 1970-2000, and longitude and latitude are the geographical coordinates of the\n",
    "municipality centroids. We do the estimation at the level of 1043 sites and $\\nu^i$ is the coarse 78-site each observation belongs to.\n",
    "5. Source: ESA Biomass (v3) (Santoro and Cartus 2021) and MapBiomas Land Use/Cover Collection 5\n",
    "(Souza et al. 2020)\n",
    "\n",
    "```{math}\n",
    "\\begin{align*}\n",
    "log(CO2e ha) = \\beta^\\gamma_{0} \n",
    "+ \\beta^\\gamma_{1} \\log(\\text{historical_precip}) \n",
    "+ \\beta^\\gamma_{2} \\log(\\text{historical_temp}) \\\\\n",
    "\\quad + \\beta^\\gamma_{3} \\text{latitude} \n",
    "+ \\beta^\\gamma_{4} \\text{longitude} \n",
    "+ \\beta^\\gamma_{5} (\\text{latitude} \\times \\text{longitude}) + \\nu^i + u_i\n",
    "\\end{align*}\n",
    "```"
   ]
  },
  {
   "cell_type": "markdown",
   "id": "31c97807",
   "metadata": {},
   "source": [
    "### $\\alpha$\n",
    "1. $\\alpha$ is the carbon depreciation parameter calculated as $1-0.01^{1/100}=0.045$\n",
    "2. We used an approximation, based on Heinrich et al. (2021), of 100 years for the time of convergence\n",
    "of the carbon accumulation process. The convergence time depends only on α and the convergence\n",
    "threshold (set to 0.99).\n",
    "3. Assuming the 100 years-period and a convergence threshold of 99%, we set $\\alpha=1-(1-0.99)^{1/100}=0.045$\n",
    "4. Source: Heinrich et al. (2021)"
   ]
  },
  {
   "cell_type": "markdown",
   "id": "52063e42",
   "metadata": {},
   "source": [
    "### $X_0^i$\n",
    "1. $X^i_0$ is the stock of CO2e stored in site's $i$ forest in 2017: Calculated as $X^i_0 = \\gamma^i*(\\bar{z}^i - Z_0^i)$, assuming\n",
    "    that all forest at the initial point is primary\n",
    "2. Source: ESA Biomass (v3) (Santoro and Cartus 2021) and MapBiomas Land Use/Cover Collection 5\n",
    "(Souza et al. 2020)"
   ]
  },
  {
   "cell_type": "markdown",
   "id": "668a8a50",
   "metadata": {},
   "source": [
    "### $\\kappa$\n",
    "1. $\\kappa$ is annual emission factor from agricultural use (CO2e/ha).\n",
    "2. We combined the agricultural net annual emission data at the state level from SEEG (Sistema de\n",
    "Estimativas de Emissões e Remoções de Gases de Efeito Estufa) with the agricultural area from\n",
    "MapBiomas at the municipal level from 1990 to 2019.\n",
    "3. Finally, $\\kappa$ is the sum of the net agricultural emission divided by the sum of the agricultural area\n",
    "averaged across States from 1990-2019 and weighted by the fraction inside the Amazon Biome.\n",
    "Since we only have coarse data at the State level, we set a single value for all sites.\n",
    "4.  Source: SEEG/Observatorio do Clima (De Azevedo et al. 2018); State division aggregated from 2015\n",
    "Municipality Division of IBGE (IBGE 2015); Mapbiomas Collection 5 Muni Level (Souza et al. 2020);\n",
    "Biomes Division 2019 IBGE (IBGE 2019)\n"
   ]
  },
  {
   "cell_type": "markdown",
   "id": "b3d7d38e",
   "metadata": {},
   "source": [
    "### $\\theta^i$\n",
    "1. We used data at the municipal level from the 2017 and 2006 Agricultural Census on the value of\n",
    "cattle sold for slaughter per hectare of pasture.\n",
    "2. To build a smoother representation of technology and fill in missing values, we used the fitted\n",
    "values of the bayesian estimation to get predicted slaughter value per hectare at municipal level(See eq below),\n",
    "where slaughter value per hectare is the value of cattle sold per pasture area in 2017 (USD/ha),\n",
    "rainfall and temperature are the average annual precipitation (mm) and temperature (degrees Celsius),\n",
    "respectively, for the period of 1970-2000, and longitude and latitude are the geographical coordinates of the\n",
    "municipality centroids. $\\nu^m$ is the Amazonian water basins the municipality belongs to.\n",
    "3. To convert from the municipal level to the site level, we calculated a weighted mean of the predicted\n",
    "value of this regression, with weights based on the share of the municipal area inside the site and the\n",
    "pasture area of the municipality\n",
    "4. To convert to a productivity parameter, we divide the average predicted value of cattle sold for slaughter\n",
    "per hectare of pasture area for each site in 2017 or 2006 (expressed in constant 01/2017 USD) by the\n",
    "observed $\\bar{P_t}^a$ (expressed in constant 01/2017 USD) with $t=2017$ or $t=2006$\n",
    "5. Source: 2017 Agricultural Census (IBGE 2017); 2006 Agricultural Census (IBGE 2006); Cattle prices\n",
    "from SEAB-PR (SEAB-PR 2021); Historical climate data - WorldClim (Fick and Hijmans 2017)\n",
    "\n",
    "```{math}\n",
    "\\begin{align*}\n",
    "log(Slaughter value)= \\beta^\\theta_{0} + \\beta^\\theta_{1} (\\text{historical_precip}) \n",
    "+ \\beta^\\theta_{2} (\\text{historical_temp}) + \\beta^\\theta_{3} (\\text{historical_temp}^2) \\\\\n",
    "\\quad + \\beta^\\theta_{4} (\\text{lat}) + \\beta^\\theta_{5} (\\text{lat}^2) \n",
    "+ \\beta^\\theta_{6} \\log(\\text{cattleSlaughter_farmGatePrice}) \n",
    "+ \\beta^\\theta_{7} (\\text{distance}) + \\nu^m + u_m\n",
    "\\end{align*}\n",
    "```"
   ]
  },
  {
   "cell_type": "markdown",
   "id": "5ae0c9fd",
   "metadata": {},
   "source": [
    "### $\\zeta$\n",
    "1. $\\zeta$s are the adjustment cost parameters. $\\zeta_1$ is for deforestation and $\\zeta_2$ for reforestation.\n",
    "2. To calibrate $\\zeta_1$, we compute the average marginal cost of\n",
    "deforestation implied by our model using data from MapBiomas on annual historical deforestation between 2008 – 2017 (Souza et al., 2020) and match this to the difference in prices for\n",
    "forested and clear land (Araújo, Costa and Sant’Anna, 2024). To calibrate $\\zeta_2$, we compute the\n",
    "average marginal cost of natural reforestation using data from MapBiomas on annual historical\n",
    "secondary vegetation age (Souza et al., 2020) and match this to natural reforestation costs in\n",
    "Benini and Adeodato (2017)."
   ]
  },
  {
   "cell_type": "markdown",
   "id": "33714edd",
   "metadata": {},
   "source": [
    "## Code\n",
    "The calibration code is written in R and is available <a href = \"https://github.com/patohdzs/amazon-carbon-prices/tree/fix_bayesian_model/rsrc\">here</a>. Please refer to the `.Rprofile` file for the required package dependencies."
   ]
  },
  {
   "cell_type": "markdown",
   "id": "66d53cef",
   "metadata": {},
   "source": [
    "The code is composed of four parts:\n",
    "1. `cleaning/_masterfile.R` downloads and loads the raw data, then performs cleaning and filtering to retain only relevant variables.\n",
    "2. `processing/_masterfile.R` aggregates and merges datasets to align their scales, transforming the cleaned data into a format suitable for calibration.\n",
    "3. `calibration/_masterfile.R` uses the processed data to calibrate the model parameters introduced in this section.\n",
    "4. `_masterfile_all.R` provides a convenient one-click solution for external users by automatically executing all steps—cleaning, processing, without requiring manual intervention."
   ]
  },
  {
   "cell_type": "markdown",
   "id": "0bc812c4",
   "metadata": {},
   "source": [
    "## Data Sources 📚\n",
    "\n",
    "A summary of the raw data repositories used in this project:\n",
    "\n",
    "- **[ESA Biomass](https://climate.esa.int/en/projects/biomass/data/)** — Spatially explicit estimates of above-ground biomass (AGB) globally  \n",
    "- **[FGV (Fundação Getulio Vargas)](https://portal.fgv.br/en/research)** — Brazil’s leading economic research institute  \n",
    "- **[Global Forest Watch](https://www.globalforestwatch.org/)** — Interactive platform for real-time forest monitoring  \n",
    "- **[IBGE](https://www.ibge.gov.br/en/)** — Brazilian Institute of Geography and Statistics  \n",
    "- **[IPEA](https://www.ipea.gov.br/forumbrics/en/)** — Institute for Applied Economic Research  \n",
    "- **[MapBiomas](https://brasil.mapbiomas.org/en/)** — Annual land use/cover maps for Brazil  \n",
    "- **[SEAB‑PR (Paraná Agriculture Secretariat)](https://www.agricultura.pr.gov.br/)** — State-level data on agricultural prices  \n",
    "- **[SEEG](https://seeg.eco.br/english/seeg-data/)** — Brazilian greenhouse gas emissions and removals  \n",
    "- **[World Bank Data](https://data.worldbank.org/)** — Comprehensive international development and environmental datasets\n"
   ]
  },
  {
   "cell_type": "markdown",
   "id": "41343215",
   "metadata": {},
   "source": [
    "## References\n",
    "\n",
    "1. Araujo, Rafael, Francisco Costa, and Marcelo Sant’Anna. 2022. “Efficient Forestation in the Brazilian\n",
    "Amazon: Evidence from a Dynamic Model.” SocArXiv.\n",
    "2. De Azevedo, Tasso Rezende, Ciniro Costa Junior, Amintas Brandão Junior, Marcelo dos Santos Cremer,\n",
    "Marina Piatto, David Shiling Tsai, Paulo Barreto, et al. 2018. “SEEG Initiative Estimates of Brazilian\n",
    "Greenhouse Gas Emissions from 1970 to 2015.” Scientific Data 5 (1): 1–43.\n",
    "3. Fick, Stephen E, and Robert J Hijmans. 2017. “WorldClim 2: New 1-Km Spatial Resolution Climate\n",
    "Surfaces for Global Land Areas.” International Journal of Climatology 37 (12): 4302–15.\n",
    "4. Heinrich, Viola HA, Ricardo Dalagnol, Henrique LG Cassol, Thais M Rosan, Catherine Torres de Almeida,\n",
    "Celso HL Silva Junior, Wesley A Campanharo, et al. 2021. “Large Carbon Sink Potential of Secondary\n",
    "Forests in the Brazilian Amazon to Mitigate Climate Change.” Nature Communications 12 (1): 1–11.\n",
    "5. IBGE. 2006. “Censo Agropecuário: Tabelas 930, 1421.” Instituto Brasileiro de Geografia e Estatística\n",
    "(IBGE), Ministério da Economia. Available at: https://sidra.ibge.gov.br/geratabela?format=us.csv&\n",
    "name=agCensus2006_agUseArea.csv&terr=NC&rank=-&query=t/1421/n6/all/v/184/p/all/c222/\n",
    "113466,113467,113468,113469,113470,113471,113472/c12603/0/c12625/0/c472/0/d/v184%202/l/,p%\n",
    "2Bc12603%2Bv%2Bc222,t%2Bc12625%2Bc472, https://sidra.ibge.gov.br/geratabela?format=us.csv&\n",
    "name=agCensus2006_cattleSlaughter.csv&terr=NC&rank=-&query=t/930/n6/all/v/2067,2068/p/all/\n",
    "c12645/114291,114292,114293/c218/0/c7940/0/c3244/0/c12517/0/c12625/0/d/v2068%200/l/,c3244%\n",
    "2Bp%2Bc12517%2Bc12625%2Bc218%2Bc7940%2Bv,t%2Bc12645. Acessed on: May 5, 2023.\n",
    "6. IBGE. 2015. “Malhas Muncipais: Shapefile, 2015.” Instituto Brasileiro de Geografia e Estatística\n",
    "(IBGE), Ministério da Economia. Archived at: https://web.archive.org/web/20200916142056/ftp:\n",
    "//geoftp.ibge.gov.br/organizacao_do_territorio/malhas_territoriais/malhas_municipais/municipio_\n",
    "2015/Brasil/BR/br_municipios.zip. Archived on: September 16, 2020.\n",
    "7. IBGE. 2017. “Censo Agropecuário: Tabelas 6882, 6911.” Instituto Brasileiro de Geografia e Estatística (IBGE), Ministério da Economia. Available at: https://sidra.ibge.gov.br/geratabela?format=\n",
    "us.csv&name=agCensus2017_cattleSold.csv&terr=NC&rank=-&query=t/6911/n6/all/v/9523,9529,\n",
    "9743,9749/p/all/c829/46302/c12625/41140/c220/110085/d/v9743%203,v9749%203/l/,p%2Bc829%\n",
    "2Bc12625%2Bv,t%2Bc220, https://sidra.ibge.gov.br/geratabela?format=us.csv&name=agCensus2017_\n",
    "agUseArea.csv&terr=NC&rank=-&query=t/6882/n6/all/v/184/p/all/c829/46302/c222/40677,40678,\n",
    "113469,113470,113471,113472/c12771/45951/c830/46427/c220/110085/d/v184%203/l/,p%2Bc829%\n",
    "2Bc12771%2Bv%2Bc222,t%2Bc830%2Bc220. Acessed on: May 5, 2023.\n",
    "8. IBGE. 2019. “Biomas Do Brasil: Shapefile, 2019.” Instituto Brasileiro de Geografia e Estatística (IBGE),\n",
    "Ministério da Economia. Archived at: https://web.archive.org/web/20200916173523/ftp://geoftp.ibge.\n",
    "gov.br/informacoes_ambientais/estudos_ambientais/biomas/vetores/Biomas_250mil.zip. Archived on:\n",
    "September 16, 2020.\n",
    "9. Santoro, Maurizio, and Oliver Cartus. 2021. “ESA Biomass Climate Change Initiative (Biomass_cci):\n",
    "Global Datasets of Forest Above-Ground Biomass for the Years 2010, 2017 and 2018, V3.” NERC EDS\n",
    "Centre for Environmental Data Analysis. https://doi.org/10.5285/5F331C418E9F4935B8EB1B836F8A91B8.\n",
    "10. SEAB-PR. 2021. “Preço Médio - Recebido Pelo Agricultor: Boi Gordo, Arroz (Em Casca), Cana-de-Açúcar,\n",
    "Milho, Mandioca, 1990-2021.” Secretaria da Agricultura e do Abastecimento do Estado do Paraná,\n",
    "Departamento de Economia Rural [publisher], Instituto de Pesquisa Econômica Aplicada, Ministério da\n",
    "Economia [distributor]. Available at: http://www.ipeadata.gov.br. Acessed on: February 22, 2021.\n",
    "11. Souza, Carlos M., Julia Z. Shimbo, Marcos R. Rosa, Leandro L. Parente, Ane A. Alencar, Bernardo F.\n",
    "T. Rudorff, Heinrich Hasenack, et al. 2020. “Reconstructing Three Decades of Land Use and Land\n",
    "Cover Changes in Brazilian Biomes with Landsat Archive and Earth Engine.” Remote Sensing 12 (17).\n",
    "https://doi.org/10.3390/rs12172735.\n"
   ]
  },
  {
   "cell_type": "markdown",
   "id": "20525970",
   "metadata": {},
   "source": [
    "<br>\n",
    "<hr style=\"height:4px; background-color:black; border:none;\">"
   ]
  }
 ],
 "metadata": {
  "language_info": {
   "name": "python"
  }
 },
 "nbformat": 4,
 "nbformat_minor": 5
}
