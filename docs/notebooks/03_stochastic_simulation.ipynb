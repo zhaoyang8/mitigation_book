{
 "cells": [
  {
   "cell_type": "markdown",
   "id": "f9999ec2",
   "metadata": {},
   "source": [
    "# Stochastic Simulation Notebook\n",
    "This notebook reorganizes and documents the stochastic simulation workflow used in the project. It summarizes key variables, equations, and demonstrates how to generate and visualize simulated pathways.\n",
    "\n",
    "Feel free to adapt paths and parameters to your environment."
   ]
  },
  {
   "cell_type": "markdown",
   "id": "082115cc",
   "metadata": {},
   "source": [
    "## Table of Contents\n",
    "1. [Prerequisites](#Prerequisites)\n",
    "2. [Variable Glossary](#Variable-Glossary)\n",
    "   * [State Variables](#State-Variables)\n",
    "   * [Control Variables](#Control-Variables)\n",
    "   * [Economic Variables](#Economic-Variables)\n",
    "   * [Social Cost Variables](#Social-Cost-Variables)\n",
    "   * [Value Functions](#Value-Functions)\n",
    "   * [Adjustment Functions](#Adjustment-Functions)\n",
    "   * [Probability Variables](#Probability-Variables)\n",
    "   * [Relative Entropy Terms](#Relative-Entropy-Terms)\n",
    "3. [Sample Simulation](#Sample-Simulation)\n",
    "4. [Extended Simulation (Multiple Pathways)](#Extended-Simulation)"
   ]
  },
  {
   "cell_type": "markdown",
   "id": "859b3972",
   "metadata": {},
   "source": [
    "## Prerequisites <a id='Prerequisites'></a>\n",
    "Ensure that your Python environment has access to the project modules (e.g., `src.plot`) and that the necessary data files for simulations are located in the expected directories."
   ]
  },
  {
   "cell_type": "code",
   "execution_count": null,
   "id": "c68be759",
   "metadata": {},
   "outputs": [],
   "source": [
    "import numpy as np\n",
    "import matplotlib.pyplot as plt\n",
    "\n",
    "# Project-specific imports (adjust path as needed)\n",
    "from src.plot import (\n",
    "    plot_simulated_stoc_path_full2_selected,\n",
    "    plot_simulated_stoc_path_full2_split2,\n",
    ")\n",
    "\n",
    "# Configure matplotlib for inline plotting\n",
    "%matplotlib inline"
   ]
  },
  {
   "cell_type": "markdown",
   "id": "c89eb1a4",
   "metadata": {},
   "source": [
    "## Variable Glossary <a id='Variable-Glossary'></a>\n",
    "\n",
    "### State Variables <a id='State-Variables'></a>\n",
    "| Symbol | Description | Notebook Name |\n",
    "|---|---|---|\n",
    "| $K$ | Log of capital stock $\\log K_t$ | `K` |\n",
    "| $Y$ | Temperature anomaly $Y_t$ | `Y` or `TA` |\n",
    "| $L$ | Log of technology level $\\log R_t$ | `L` |\n",
    "\n",
    "### Control Variables <a id='Control-Variables'></a>\n",
    "| Symbol | Description | Notebook Name |\n",
    "|---|---|---|\n",
    "| $i$ | Physical investment $i^k_t$ | `i` |\n",
    "| $e$ | Emissions $E_t$ | `e` |\n",
    "| $x$ | R&D investment $i^r_t$ | `x` |\n",
    "\n",
    "### Economic Variables <a id='Economic-Variables'></a>\n",
    "| Symbol | Description | Formula |\n",
    "|---|---|---|\n",
    "| $c$ | Consumption | $C_t = \\alpha K_t\\left(1-\\phi_0(A^b_t)^{\\phi_1}\\right) - I^k_t - I^r_t$ |\n",
    "| $\\text{dmg}$ | Damage function | $N_t = e^{\\lambda_1+\\lambda_2 y_t}$ |\n",
    "\n",
    "### Social Cost Variables <a id='Social-Cost-Variables'></a>\n",
    "| Symbol | Description |\n",
    "|---|---|\n",
    "| `scc` | Social Cost of Carbon $\\partial\\hat{V}/\\partial e$ |\n",
    "| `scrd` | Social Cost of R&D $\\partial\\hat{V}/\\partial r$ |\n",
    "| `scgw` | Social Cost of Global Warming $\\partial\\hat{V}/\\partial y$ |\n",
    "\n",
    "### Value Functions <a id='Value-Functions'></a>\n",
    "| Symbol | Description |\n",
    "|---|---|\n",
    "| `vt` | Value function $\\hat{V}$ (pre–tech jump) |\n",
    "| `v_post_techt` | Value function $\\hat{V}_L$ (post–tech jump) |\n",
    "\n",
    "### Adjustment Functions <a id='Adjustment-Functions'></a>\n",
    "| Symbol | Description |\n",
    "|---|---|\n",
    "| `ht` | Temp‑anomaly adjustment $h_y$ |\n",
    "| `hkt` | Capital adjustment $h_k$ |\n",
    "| `hjt` | Knowledge‑capital adjustment $h_r$ |\n",
    "| `gt_dmg` | Damage jump adjustment $g_\\ell$ |\n",
    "| `gt_tech` | Tech jump adjustment $f_L$ |\n",
    "\n",
    "### Probability Variables <a id='Probability-Variables'></a>\n",
    "| Symbol | Description |\n",
    "|---|---|\n",
    "| `distorted_damage_prob` | Distorted damage‑jump probability $J_\\ell\\,g_\\ell$ |\n",
    "| `distorted_tech_prob` | Distorted tech‑jump probability $J_L\\,f_L$ |\n",
    "| `true_tech_prob` | True tech‑jump probability $J_L$ |\n",
    "| `true_damage_prob` | True damage‑jump probability $J_\\ell$ |\n",
    "\n",
    "### Relative Entropy Terms <a id='Relative-Entropy-Terms'></a>\n",
    "| Term | Expression |\n",
    "|---|---|\n",
    "| `RelativeEntropy_hk` | $\\tfrac{1}{2}\\,\\xi_k\\,h_k^2$ |\n",
    "| `RelativeEntropy_hY` | $\\tfrac{1}{2}\\,\\xi_c\\,h_t^2$ |\n",
    "| `RelativeEntropy_hj` | $\\tfrac{1}{2}\\,\\xi_j\\,h_j^2$ |\n",
    "| `RelativeEntropy_TechJump` | $\\xi_j J_L(1-f+f\\log f)$ |\n",
    "| `RelativeEntropy_DamageJump` | $\\xi_d \\sum_\\ell J_\\ell(1-g_\\ell+g_\\ell\\log g_\\ell)$ |\n"
   ]
  },
  {
   "cell_type": "markdown",
   "id": "97a2dfb1",
   "metadata": {},
   "source": [
    "## Sample Simulation <a id='Sample-Simulation'></a>\n",
    "The following cell reproduces the key figures for **one representative stochastic path**. Adjust the calls or parameters as needed."
   ]
  },
  {
   "cell_type": "code",
   "execution_count": null,
   "id": "8f3cc892",
   "metadata": {},
   "outputs": [],
   "source": [
    "plot_simulated_stoc_path_full2_selected('RD_Plot', 'Figure 22: R&D Investment as Percentage of GDP', '%', [0, 10])\n",
    "plot_simulated_stoc_path_full2_selected('e', 'Figure 23: Simulated Pathways of Emissions', '', [6, 25])\n",
    "plot_simulated_stoc_path_full2_selected('LogSVRD_Plot', 'Figure 24: Social Value of R&D (log)', '', [4, 10])\n",
    "plot_simulated_stoc_path_full2_selected('LogSCGW_Plot', 'Figure 25: Social Cost of Global Warming (log)', '', [6, 14])\n",
    "plot_simulated_stoc_path_full2_selected('TA', 'Figure 26: Temperature Anomaly', '', [0, 3])\n",
    "plot_simulated_stoc_path_full2_selected('distorted_tech_prob', 'Figure 27: Distorted Tech‑Jump Probability', '', [0, 1])\n",
    "plot_simulated_stoc_path_full2_selected('distorted_damage_prob', 'Figure 28: Distorted Damage‑Jump Probability', '', [0, 1])\n",
    "plot_simulated_stoc_path_full2_selected('gamma3', 'Figure 29: Damage Realization', '', [0, 1/3])"
   ]
  },
  {
   "cell_type": "markdown",
   "id": "d6f3abb4",
   "metadata": {},
   "source": [
    "## Extended Simulation (Multiple Pathways) <a id='Extended-Simulation'></a>\n",
    "The following cell generates the same figures **but across multiple simulated pathways**, using `plot_simulated_stoc_path_full2_split2`."
   ]
  },
  {
   "cell_type": "code",
   "execution_count": null,
   "id": "3999a045",
   "metadata": {},
   "outputs": [],
   "source": [
    "plot_simulated_stoc_path_full2_split2('RD_Plot', 'Figure 30: R&D Investment as Percentage of GDP', '%', [0, 10])\n",
    "plot_simulated_stoc_path_full2_split2('e', 'Figure 31: Simulated Pathways of Emissions', '', [6, 25])\n",
    "plot_simulated_stoc_path_full2_split2('LogSVRD_Plot', 'Figure 32: Social Value of R&D (log)', '', [6, 25])\n",
    "plot_simulated_stoc_path_full2_split2('LogSCGW_Plot', 'Figure 33: Social Cost of Global Warming (log)', '', [6, 14])\n",
    "plot_simulated_stoc_path_full2_split2('TA', 'Figure 34: Temperature Anomaly', '', [0, 3])\n",
    "plot_simulated_stoc_path_full2_split2('distorted_tech_prob', 'Figure 35: Distorted Tech‑Jump Probability', '', [0, 1])\n",
    "plot_simulated_stoc_path_full2_split2('distorted_damage_prob', 'Figure 36: Distorted Damage‑Jump Probability', '', [0, 1])\n",
    "plot_simulated_stoc_path_full2_split2('gamma3', 'Figure 37: Damage Realization', '', [0, 1/3])"
   ]
  }
 ],
 "metadata": {},
 "nbformat": 4,
 "nbformat_minor": 5
}
