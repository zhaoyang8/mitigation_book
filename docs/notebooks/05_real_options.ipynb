{
 "cells": [
  {
   "cell_type": "markdown",
   "id": "0e3fb373",
   "metadata": {},
   "source": [
    "# Real Options Application\n",
    "\n",
    "This notebook reorganizes Real Options Application."
   ]
  }
 ],
 "metadata": {
  "language_info": {
   "name": "python"
  }
 },
 "nbformat": 4,
 "nbformat_minor": 5
}
