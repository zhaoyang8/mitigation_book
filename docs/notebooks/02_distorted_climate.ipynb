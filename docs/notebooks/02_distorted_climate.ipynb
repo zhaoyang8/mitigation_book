{
 "cells": [
  {
   "cell_type": "markdown",
   "id": "5f6a1360",
   "metadata": {},
   "source": [
    "# Distorted Probability Analysis\n",
    "\n",
    "This notebook organizes the workflow for computing and visualizing distorted probability models, jump probabilities, and optimal controls derived from solving Hamilton–Jacobi–Bellman (HJB) equations in the climate‑economy framework.\n",
    "\n",
    "Feel free to adapt paths and parameters as needed for your environment."
   ]
  },
  {
   "cell_type": "markdown",
   "id": "f3ae48a6",
   "metadata": {},
   "source": [
    "## Table of Contents\n",
    "1. [Setup & Simulation](#setup)\n",
    "2. [Distorted Climate & Damage Model Distributions](#distorted-distributions)\n",
    "3. [Distorted Jump Probabilities](#distorted-jump-probabilities)\n",
    "4. [Optimal Controls](#optimal-controls)"
   ]
  },
  {
   "cell_type": "markdown",
   "id": "4cd846ba",
   "metadata": {},
   "source": [
    "## 1. Setup & Simulation <a id='setup'></a>\n",
    "Run the following shell commands **once** to generate baseline and distorted trajectories:\n"
   ]
  },
  {
   "cell_type": "code",
   "execution_count": null,
   "id": "9b18a151",
   "metadata": {},
   "outputs": [],
   "source": [
    "%%bash\n",
    "# -- Trajectory simulation & plotting --\n",
    "bash ./conduction/ZeroShockTrajectories_simulate.sh \"false\" \"false\" \"false\" \"true\"\n",
    "bash ./conduction/ZeroShockTrajectories_plot.sh      \"false\" \"false\" \"false\" \"true\""
   ]
  },
  {
   "cell_type": "markdown",
   "id": "b0f64afd",
   "metadata": {},
   "source": [
    "## 2. Distorted Climate & Damage Model Distributions <a id='distorted-distributions'></a>\n",
    "The distorted model is obtained by solving the following **entropy‑regularized** minimization problem:\n",
    "\n",
    "\\[\n",
    "\\min_{q}\\; \\chi \\int_{\\Theta} q(\\theta)\\,\\log q(\\theta)\\,dP_t(\\theta)\n",
    "\\]\n",
    "subject to\n",
    "\\[\n",
    "\\int_{\\Theta} \\mu\\big[X_t,\\Phi^{\\ast}(X_t)\\big] \\, q(\\theta)\\, dP_t(\\theta) = \\bar h(X_t),\n",
    "\\]\n",
    "where $\\Phi^{\\ast}$ is the robustly optimal policy and $\\bar h$ encapsulates misspecification‑averse preferences.  \n",
    "The minimizing density has the exponential‑tilt form\n",
    "\\[\n",
    "q^{\\ast}_t(\\theta) \\propto \\exp\\big[-\\zeta\\,\\mu\\big(X_t,a^{\\ast}(X_t)\\big)\\big],\n",
    "\\]\n",
    "with Lagrange multiplier $\\zeta$ chosen to satisfy the constraint."
   ]
  },
  {
   "cell_type": "code",
   "execution_count": null,
   "id": "6dd53d5a",
   "metadata": {},
   "outputs": [],
   "source": [
    "# --- Climate model distribution ---\n",
    "from src.plot7 import plot_climatehist\n",
    "plot_climatehist(\"Figure 4: Distorted Climate Model Distribution\")"
   ]
  },
  {
   "cell_type": "code",
   "execution_count": null,
   "id": "1a25f19a",
   "metadata": {},
   "outputs": [],
   "source": [
    "# --- Damage model distribution ---\n",
    "from src.plot import plot_gammahist\n",
    "plot_gammahist(\"Figure 7: Distorted Damage Model Distribution\")"
   ]
  },
  {
   "cell_type": "markdown",
   "id": "5d5c355e",
   "metadata": {},
   "source": [
    "## 3. Distorted Jump Probabilities <a id='distorted-jump-probabilities'></a>\n",
    "For a collection of jump processes $\\{J_{\\ell}\\}_{\\ell=1}^{L}$ with controls $g^{\\ast}_{\\ell}(X_u)$, the distorted cumulative jump probability is\n",
    "\\[\n",
    "\\tilde{E}\\Big[\\exp\\!\\Big(-\\int_{0}^{t} \\sum_{\\ell=1}^{L} J_{\\ell}(X_u)g^{\\ast}_{\\ell}(X_u)\\,du\\Big)\n",
    "\\,\\sum_{\\ell=1}^{L} J_{\\ell}(X_u)g^{\\ast}_{\\ell}(X_u)\\;\\Big|\\;X_0=x\\Big].\\]\n",
    "Below we separate total, technology, and damage jump components."
   ]
  },
  {
   "cell_type": "code",
   "execution_count": null,
   "id": "c98357e1",
   "metadata": {},
   "outputs": [],
   "source": [
    "# --- Total distorted jump probability ---\n",
    "from src.plot import Distorted_total_prob\n",
    "Distorted_total_prob()"
   ]
  },
  {
   "cell_type": "code",
   "execution_count": null,
   "id": "2a10c5d1",
   "metadata": {},
   "outputs": [],
   "source": [
    "# --- Technology jump probability ---\n",
    "from src.plot import Distorted_tech_jump_prob\n",
    "Distorted_tech_jump_prob()"
   ]
  },
  {
   "cell_type": "code",
   "execution_count": null,
   "id": "1116b8d1",
   "metadata": {},
   "outputs": [],
   "source": [
    "# --- Damage jump probability ---\n",
    "from src.plot import Distorted_damage_jump_prob\n",
    "Distorted_damage_jump_prob()"
   ]
  },
  {
   "cell_type": "markdown",
   "id": "d7a43d42",
   "metadata": {},
   "source": [
    "## 4. Optimal Controls <a id='optimal-controls'></a>\n",
    "Visualize the robustly optimal control rules for capital investment, R&D spending, and emissions mitigation:"
   ]
  },
  {
   "cell_type": "code",
   "execution_count": null,
   "id": "46a5d086",
   "metadata": {},
   "outputs": [],
   "source": [
    "# --- Capital control ---\n",
    "from src.plot import Optimal_Control_Capital\n",
    "Optimal_Control_Capital()"
   ]
  },
  {
   "cell_type": "code",
   "execution_count": null,
   "id": "bd6f7cad",
   "metadata": {},
   "outputs": [],
   "source": [
    "# --- R&D control ---\n",
    "from src.plot import Optimal_Control_RD\n",
    "Optimal_Control_RD()"
   ]
  },
  {
   "cell_type": "code",
   "execution_count": null,
   "id": "fe2d513d",
   "metadata": {},
   "outputs": [],
   "source": [
    "# --- Emissions control ---\n",
    "from src.plot import Optimal_Control_Emission\n",
    "Optimal_Control_Emission()"
   ]
  }
 ],
 "metadata": {},
 "nbformat": 4,
 "nbformat_minor": 5
}
