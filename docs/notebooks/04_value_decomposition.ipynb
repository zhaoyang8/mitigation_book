{
 "cells": [
  {
   "cell_type": "markdown",
   "id": "e16ce1f1",
   "metadata": {},
   "source": [
    "# Value Decomposition Analysis\n",
    "\n",
    "This notebook reorganizes the value decomposition framework and provides code placeholders to reproduce the calculations and simulations."
   ]
  },
  {
   "cell_type": "markdown",
   "id": "5c697fd5",
   "metadata": {},
   "source": [
    "## Table of Contents\n",
    "1. Overview\n",
    "2. Mathematical Formulation\n",
    "3. Simulation Workflow\n",
    "4. Numerical Implementation\n",
    "5. Value Decomposition Outputs\n",
    "6. Uncertainty‑Aversion Scenarios\n",
    "7. Code Templates"
   ]
  },
  {
   "cell_type": "markdown",
   "id": "d76f3438",
   "metadata": {},
   "source": [
    "### 1. Overview\n",
    "Value decomposition links the marginal value of the state variables to discounted social cash‑flow terms obtained from forward simulations."
   ]
  },
  {
   "cell_type": "markdown",
   "id": "ec88ff36",
   "metadata": {},
   "source": [
    "### 2. Mathematical Formulation\n",
    "\n",
    "The decomposition starts from\n",
    "\n",
    "\\[\n",
    "\\frac{\\partial V}{\\partial x}(X_0)\\,\\cdot\\, M_0\n",
    "\\;=\\;\n",
    "\\mathbb{E}\\Bigg[\\,\n",
    "\\int_{0}^{\\infty}\n",
    "\\underbrace{\\text{Dist}(t)}_{\\text{discount factor}}\n",
    "\\;\n",
    "\\underbrace{\\text{Scf}_t}_{\\text{social cash flow}}\n",
    "\\,dt\n",
    "\\;\\Bigm|\\; X_0, M_0\n",
    "\\Bigg].\n",
    "\\]\n",
    "\n",
    "**Definitions**\n",
    "\n",
    "* Discount factor  \n",
    "\n",
    "\\[\n",
    "\\text{Dist}(t)=\\exp\\!\\Bigg(\n",
    "-\\!\\int_0^{t}\\!\n",
    "\\bigl[\\,\n",
    "\\delta \\;+\\; \\sum_{\\ell=1}^{L} J_{\\ell}(X_u)\n",
    "\\bigr]\\,du\n",
    "\\Bigg)\n",
    "\\]\n",
    "\n",
    "* Social cash flow  \n",
    "\n",
    "\\[\n",
    "\\begin{aligned}\n",
    "\\text{Scf}_t &= \\delta\\,U_x(X_t)\n",
    "\\;+\\;\n",
    "\\sum_{\\ell=1}^{L}\n",
    "J_{\\ell,x}(X_t)\\,g_\\ell^{\\!*}(X_t)\\,\\bigl[V_\\ell(X_t)-V(X_t)\\bigr] \\\\\n",
    "&\\quad\n",
    "+\\;\n",
    "\\sum_{\\ell=1}^{L}\n",
    "J_{\\ell}(X_t)\\,g_\\ell^{\\!*}(X_t)\\,V_{\\ell,x}(X_t)\n",
    "\\;+\\;\n",
    "\\xi\n",
    "\\sum_{\\ell=1}^{L}\n",
    "J_{\\ell,x}(X_t)\n",
    "\\bigl[1-g_\\ell^{\\!*}(X_t)+g_\\ell^{\\!*}(X_t)\\log g_\\ell^{\\!*}(X_t)\\bigr].\n",
    "\\end{aligned}\n",
    "\\]\n"
   ]
  },
  {
   "cell_type": "markdown",
   "id": "368f2d79",
   "metadata": {},
   "source": [
    "### 3. Simulation Workflow\n",
    "1. **Pre‑processing (`FeymannKacs_prepare.py`)**  \n",
    "   • Load solved HJB solutions  \n",
    "   • Compute finite‑difference derivatives  \n",
    "   • Interpolate onto simulation grids  \n",
    "\n",
    "2. **Simulation (`FeymannKacs_simulate.py`)**  \n",
    "   • Simulate first‑variation process $M_t$ and distorted state $\\tilde X_t$  \n",
    "   • Accumulate the four discounted cash‑flow terms  \n",
    "\n",
    "Bash drivers `FeymannKacs_prepare.sh` and `FeymannKacs_simulate.sh` orchestrate these stages."
   ]
  },
  {
   "cell_type": "markdown",
   "id": "15ad2c4b",
   "metadata": {},
   "source": [
    "#### 3.1 State & First‑Variation Processes\n",
    "\n",
    "\\[\n",
    "M_t=\n",
    "\\begin{bmatrix}\n",
    "M_{\\log\\tilde K,t}\\\\[4pt]\n",
    "M_{\\tilde Y,t}\\\\[4pt]\n",
    "M_{\\log\\tilde R,t}\\\\[4pt]\n",
    "M_{\\log\\tilde N,t}\n",
    "\\end{bmatrix},\n",
    "\\qquad\n",
    "\\tilde X_t=\n",
    "\\begin{bmatrix}\n",
    "\\log\\tilde K_t\\\\[4pt]\n",
    "\\tilde Y_t\\\\[4pt]\n",
    "\\log\\tilde R_t\\\\[4pt]\n",
    "\\log\\tilde N_t\n",
    "\\end{bmatrix}.\n",
    "\\]\n"
   ]
  },
  {
   "cell_type": "markdown",
   "id": "bb956690",
   "metadata": {},
   "source": [
    "#### 3.2 Initial Conditions\n",
    "\n",
    "```python\n",
    "# First‑variation vector (technology perturbation)\n",
    "M0 = [0, 0, 1, 0]\n",
    "\n",
    "# Distorted state vector\n",
    "X0 = [\n",
    "    np.log(85 / 0.115),\n",
    "    1.1,\n",
    "    np.log(11.2),\n",
    "    1.1 * γ1 + 0.5 * 1.1**2 * γ2\n",
    "]\n",
    "```\n"
   ]
  },
  {
   "cell_type": "markdown",
   "id": "2e9af082",
   "metadata": {},
   "source": [
    "### 4. Numerical Implementation\n",
    "* Finite differences compute gradients such as ∂μ/∂x.  \n",
    "* Interpolation (line 397 in `FeymannKacs_prepare.py`) produces callable functions on the grid.  \n",
    "* A time loop advances the simulation and accumulates discounted terms."
   ]
  },
  {
   "cell_type": "markdown",
   "id": "f64e0a49",
   "metadata": {},
   "source": [
    "### 5. Value Decomposition Outputs\n",
    "\n",
    "The four discounted components collected during simulation correspond to:\n",
    "\n",
    "| # | Component | Expression in $\\,\\text{Scf}_t$ |\n",
    "|---|-----------|----------------------------------|\n",
    "| 1 | Marginal utility | $\\delta\\,U_x$ |\n",
    "| 2 | Continuation‑value spread | $J_{\\ell,x}\\,g_\\ell^{\\!*}(V_\\ell - V)$ |\n",
    "| 3 | Continuation‑value gradient | $J_{\\ell}\\,g_\\ell^{\\!*}\\,V_{\\ell,x}$ |\n",
    "| 4 | Penalty | $\\xi\\,J_{\\ell,x}\\bigl[1-g_\\ell^{\\!*}+g_\\ell^{\\!*}\\log g_\\ell^{\\!*}\\bigr]$ |"
   ]
  },
  {
   "cell_type": "markdown",
   "id": "909b42cb",
   "metadata": {},
   "source": [
    "### 6. Uncertainty‑Aversion Scenarios\n",
    "\n",
    "| Scenario | Pre‑Jump | Post‑Jump |\n",
    "|----------|----------|-----------|\n",
    "| NN | Neutral | Neutral |\n",
    "| NA | Neutral | Averse |\n",
    "| AN | Averse  | Neutral |\n",
    "| AA | Averse  | Averse |"
   ]
  },
  {
   "cell_type": "markdown",
   "id": "49f1586a",
   "metadata": {},
   "source": [
    "### 7. Code Templates"
   ]
  },
  {
   "cell_type": "code",
   "execution_count": null,
   "id": "f2179358",
   "metadata": {},
   "outputs": [],
   "source": [
    "# Imports and configuration\n",
    "import numpy as np\n",
    "import matplotlib.pyplot as plt\n",
    "\n",
    "# Set global plotting preferences\n",
    "plt.rcParams['figure.figsize'] = (8, 4)\n"
   ]
  },
  {
   "cell_type": "code",
   "execution_count": null,
   "id": "8fe88e8f",
   "metadata": {},
   "outputs": [],
   "source": [
    "# TODO: Load pre‑computed HJB solution and interpolation grids\n",
    "# from FeymannKacs_prepare import load_prepared_data\n",
    "# data = load_prepared_data('prepared_data.npz')\n"
   ]
  },
  {
   "cell_type": "code",
   "execution_count": null,
   "id": "89f1890d",
   "metadata": {},
   "outputs": [],
   "source": [
    "# TODO: Simulate first‑variation and distorted state processes\n",
    "# from FeymannKacs_simulate import simulate\n",
    "# results = simulate(data, T=200, dt=1/12, M0=M0, X0=X0)\n"
   ]
  },
  {
   "cell_type": "code",
   "execution_count": null,
   "id": "e7205757",
   "metadata": {},
   "outputs": [],
   "source": [
    "# TODO: Plot example discounted contributions\n",
    "# plt.plot(results['time'], results['term1'], label='Marginal utility')\n",
    "# plt.xlabel('Time')\n",
    "# plt.ylabel('Discounted contribution')\n",
    "# plt.legend()\n",
    "# plt.show()\n"
   ]
  }
 ],
 "metadata": {
  "kernelspec": {
   "display_name": "Python 3",
   "name": "python3"
  }
 },
 "nbformat": 4,
 "nbformat_minor": 5
}
